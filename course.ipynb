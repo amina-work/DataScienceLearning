{
 "cells": [
  {
   "cell_type": "code",
   "execution_count": 12,
   "metadata": {},
   "outputs": [
    {
     "name": "stdout",
     "output_type": "stream",
     "text": [
      "('a', 'b', 'c')\n"
     ]
    }
   ],
   "source": [
    "A=('a','b','c')\n",
    "print(A[:])"
   ]
  },
  {
   "cell_type": "code",
   "execution_count": 1,
   "metadata": {},
   "outputs": [
    {
     "name": "stdout",
     "output_type": "stream",
     "text": [
      "11\n"
     ]
    }
   ],
   "source": [
    "a=1\n",
    "\n",
    "def add(b):\n",
    "\n",
    "    return a+b\n",
    "\n",
    "c=add(10)\n",
    "print(c)\n"
   ]
  },
  {
   "cell_type": "code",
   "execution_count": 7,
   "metadata": {},
   "outputs": [
    {
     "data": {
      "text/plain": [
       "12"
      ]
     },
     "execution_count": 7,
     "metadata": {},
     "output_type": "execute_result"
    }
   ],
   "source": [
    "#return the sum of the tupple\n",
    "def f(*x):\n",
    "\n",
    "    return sum(x) \n",
    "f(11, 1)"
   ]
  },
  {
   "cell_type": "code",
   "execution_count": null,
   "metadata": {},
   "outputs": [],
   "source": [
    "class Car(object):\n",
    "    def __init__(self,make,model,color):\n",
    "        self.make=make;\n",
    "        self.model=model;\n",
    "        self.color=color;\n",
    "        self.owner_number=0 \n",
    "    def car_info(self):\n",
    "        print(\"make: \",self.make)\n",
    "        print(\"model:\", self.model)\n",
    "        print(\"color:\",self.color)\n",
    "        print(\"number of owners:\",self.owner_number)\n",
    "    def sell(self):\n",
    "        self.owner_number=self.owner_number+1"
   ]
  },
  {
   "cell_type": "code",
   "execution_count": 18,
   "metadata": {},
   "outputs": [
    {
     "name": "stdout",
     "output_type": "stream",
     "text": [
      "[1, 2, 3, 6]\n"
     ]
    }
   ],
   "source": [
    "B = [3, 6, 2, 1]\n",
    "B.sort()\n",
    "print(B)"
   ]
  },
  {
   "cell_type": "code",
   "execution_count": 15,
   "metadata": {},
   "outputs": [
    {
     "name": "stdout",
     "output_type": "stream",
     "text": [
      "My name is Red\n",
      "My name is Jerry\n",
      "My name is yellow\n",
      "None\n",
      "None\n",
      "None\n"
     ]
    }
   ],
   "source": [
    "class Robot():\n",
    "    def __init__(self, name, color, weight):\n",
    "        self.name=name;\n",
    "        self.color=color;\n",
    "        self.weight=weight;\n",
    "    def introduceSelf(self):\n",
    "        print(\"My name is \" + self.name)\n",
    "\n",
    "r1 = Robot(color=\"Tom\", name=\"Red\", weight=\"30\")\n",
    "r2 = Robot(name=\"Jerry\", color=\"Blue\", weight=\"30\")\n",
    "r3 = Robot(\"yellow\", \"jacob\", \"40\")\n",
    "print(r1.introduceSelf(), r2.introduceSelf(), r3.introduceSelf(), sep=\"\\n\")"
   ]
  },
  {
   "cell_type": "code",
   "execution_count": 1,
   "metadata": {},
   "outputs": [
    {
     "ename": "ModuleNotFoundError",
     "evalue": "No module named 'pandas'",
     "output_type": "error",
     "traceback": [
      "\u001b[0;31m---------------------------------------------------------------------------\u001b[0m",
      "\u001b[0;31mModuleNotFoundError\u001b[0m                       Traceback (most recent call last)",
      "Cell \u001b[0;32mIn[1], line 1\u001b[0m\n\u001b[0;32m----> 1\u001b[0m \u001b[39mimport\u001b[39;00m \u001b[39mpandas\u001b[39;00m \u001b[39mas\u001b[39;00m \u001b[39mbanana\u001b[39;00m\n\u001b[1;32m      3\u001b[0m df\u001b[39m=\u001b[39mbanana\u001b[39m.\u001b[39mDataFrame({\u001b[39m'\u001b[39m\u001b[39ma\u001b[39m\u001b[39m'\u001b[39m:[\u001b[39m11\u001b[39m,\u001b[39m21\u001b[39m,\u001b[39m31\u001b[39m],\u001b[39m'\u001b[39m\u001b[39mb\u001b[39m\u001b[39m'\u001b[39m:[\u001b[39m21\u001b[39m,\u001b[39m22\u001b[39m,\u001b[39m23\u001b[39m]})\n\u001b[1;32m      5\u001b[0m \u001b[39mprint\u001b[39m(df\u001b[39m.\u001b[39mhead())\n",
      "\u001b[0;31mModuleNotFoundError\u001b[0m: No module named 'pandas'"
     ]
    }
   ],
   "source": [
    "import pandas as banana\n",
    "\n",
    "df=banana.DataFrame({'a':[11,21,31],'b':[21,22,23]})\n",
    "\n",
    "print(df.head())\n"
   ]
  },
  {
   "cell_type": "code",
   "execution_count": null,
   "metadata": {},
   "outputs": [
    {
     "ename": "",
     "evalue": "",
     "output_type": "error",
     "traceback": [
      "\u001b[1;31mFailed to start the Kernel. \n",
      "\u001b[1;31mJupyter server crashed. Unable to connect. \n",
      "\u001b[1;31mError code from Jupyter: 1\n",
      "\u001b[1;31musage: jupyter.py [-h] [--version] [--config-dir] [--data-dir] [--runtime-dir]\n",
      "\u001b[1;31m                  [--paths] [--json] [--debug]\n",
      "\u001b[1;31m                  [subcommand]\n",
      "\u001b[1;31m\n",
      "\u001b[1;31mJupyter: Interactive Computing\n",
      "\u001b[1;31m\n",
      "\u001b[1;31mpositional arguments:\n",
      "\u001b[1;31m  subcommand     the subcommand to launch\n",
      "\u001b[1;31m\n",
      "\u001b[1;31moptions:\n",
      "\u001b[1;31m  -h, --help     show this help message and exit\n",
      "\u001b[1;31m  --version      show the versions of core jupyter packages and exit\n",
      "\u001b[1;31m  --config-dir   show Jupyter config dir\n",
      "\u001b[1;31m  --data-dir     show Jupyter data dir\n",
      "\u001b[1;31m  --runtime-dir  show Jupyter runtime dir\n",
      "\u001b[1;31m  --paths        show all Jupyter paths. Add --json for machine-readable\n",
      "\u001b[1;31m                 format.\n",
      "\u001b[1;31m  --json         output paths as machine-readable json\n",
      "\u001b[1;31m  --debug        output debug information about paths\n",
      "\u001b[1;31m\n",
      "\u001b[1;31mAvailable subcommands: migrate troubleshoot\n",
      "\u001b[1;31m\n",
      "\u001b[1;31mJupyter command `jupyter-notebook` not found. \n",
      "\u001b[1;31mView Jupyter <a href='command:jupyter.viewOutput'>log</a> for further details."
     ]
    }
   ],
   "source": [
    "print(\"hello\")"
   ]
  }
 ],
 "metadata": {
  "kernelspec": {
   "display_name": "Python 3",
   "language": "python",
   "name": "python3"
  },
  "language_info": {
   "codemirror_mode": {
    "name": "ipython",
    "version": 3
   },
   "file_extension": ".py",
   "mimetype": "text/x-python",
   "name": "python",
   "nbconvert_exporter": "python",
   "pygments_lexer": "ipython3",
   "version": "3.11.2"
  },
  "orig_nbformat": 4,
  "vscode": {
   "interpreter": {
    "hash": "ead1b95f633dc9c51826328e1846203f51a198c6fb5f2884a80417ba131d4e82"
   }
  }
 },
 "nbformat": 4,
 "nbformat_minor": 2
}
